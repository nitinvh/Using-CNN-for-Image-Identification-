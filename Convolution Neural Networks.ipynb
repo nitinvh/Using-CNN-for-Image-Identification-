{
 "cells": [
  {
   "cell_type": "markdown",
   "metadata": {},
   "source": [
    "# Importing Data"
   ]
  },
  {
   "cell_type": "code",
   "execution_count": 1,
   "metadata": {},
   "outputs": [
    {
     "name": "stderr",
     "output_type": "stream",
     "text": [
      "Using TensorFlow backend.\n"
     ]
    }
   ],
   "source": [
    "import tensorflow as tf\n",
    "import numpy as np\n",
    "import pandas as pd\n",
    "from keras.preprocessing.image import ImageDataGenerator\n",
    "from keras.preprocessing import image"
   ]
  },
  {
   "cell_type": "markdown",
   "metadata": {},
   "source": [
    "# Data Preprocessing"
   ]
  },
  {
   "cell_type": "markdown",
   "metadata": {},
   "source": [
    "## Preprocessing for Training set"
   ]
  },
  {
   "cell_type": "code",
   "execution_count": 2,
   "metadata": {},
   "outputs": [
    {
     "name": "stdout",
     "output_type": "stream",
     "text": [
      "Found 8000 images belonging to 2 classes.\n"
     ]
    }
   ],
   "source": [
    "train_datagen = ImageDataGenerator(\n",
    "  rescale=1./255,\n",
    "    shear_range=0.2,\n",
    "    zoom_range=0.2,\n",
    "    horizontal_flip= True\n",
    " )\n",
    "train_set = train_datagen.flow_from_directory(\n",
    "    'dataset/training_set',\n",
    "    target_size = (64,64),\n",
    "    batch_size = 32,\n",
    "    class_mode = 'binary'\n",
    ")"
   ]
  },
  {
   "cell_type": "markdown",
   "metadata": {},
   "source": [
    "## Preprocessing test set"
   ]
  },
  {
   "cell_type": "code",
   "execution_count": 3,
   "metadata": {},
   "outputs": [
    {
     "name": "stdout",
     "output_type": "stream",
     "text": [
      "Found 2000 images belonging to 2 classes.\n"
     ]
    }
   ],
   "source": [
    "test_datagen = ImageDataGenerator(rescale=1./255)\n",
    "test_set = test_datagen.flow_from_directory(\n",
    " 'dataset/test_set',\n",
    "    target_size = (64,64),\n",
    "    batch_size = 32,\n",
    "    class_mode = 'binary'\n",
    ")"
   ]
  },
  {
   "cell_type": "markdown",
   "metadata": {},
   "source": [
    "# Building CNN"
   ]
  },
  {
   "cell_type": "markdown",
   "metadata": {},
   "source": [
    "## Initializing CNN"
   ]
  },
  {
   "cell_type": "code",
   "execution_count": 4,
   "metadata": {},
   "outputs": [],
   "source": [
    "cnn = tf.keras.models.Sequential()"
   ]
  },
  {
   "cell_type": "markdown",
   "metadata": {},
   "source": [
    "## Step 1 Convolution Layer"
   ]
  },
  {
   "cell_type": "code",
   "execution_count": 5,
   "metadata": {},
   "outputs": [],
   "source": [
    "cnn.add(tf.keras.layers.Conv2D(filters=32,kernel_size = 3,activation='relu',input_shape = [64,64,3]))"
   ]
  },
  {
   "cell_type": "markdown",
   "metadata": {},
   "source": [
    "## Step 2 Pooling"
   ]
  },
  {
   "cell_type": "code",
   "execution_count": 6,
   "metadata": {},
   "outputs": [],
   "source": [
    "cnn.add(tf.keras.layers.MaxPool2D(pool_size= 2,strides= 2))"
   ]
  },
  {
   "cell_type": "markdown",
   "metadata": {},
   "source": [
    "### 2nd Convolution Layer"
   ]
  },
  {
   "cell_type": "code",
   "execution_count": 7,
   "metadata": {},
   "outputs": [],
   "source": [
    "cnn.add(tf.keras.layers.Conv2D(filters = 32,kernel_size = 3,activation='relu'))\n",
    "cnn.add(tf.keras.layers.MaxPool2D(pool_size=2,strides=2))"
   ]
  },
  {
   "cell_type": "markdown",
   "metadata": {},
   "source": [
    "## Step 3 Flattening"
   ]
  },
  {
   "cell_type": "code",
   "execution_count": 8,
   "metadata": {},
   "outputs": [],
   "source": [
    "cnn.add(tf.keras.layers.Flatten())"
   ]
  },
  {
   "cell_type": "markdown",
   "metadata": {},
   "source": [
    "## Step 4 Full Connection"
   ]
  },
  {
   "cell_type": "code",
   "execution_count": 9,
   "metadata": {},
   "outputs": [],
   "source": [
    "cnn.add(tf.keras.layers.Dense(units=128,activation='relu'))"
   ]
  },
  {
   "cell_type": "markdown",
   "metadata": {},
   "source": [
    "## Step 5 Output Layer"
   ]
  },
  {
   "cell_type": "code",
   "execution_count": 10,
   "metadata": {},
   "outputs": [],
   "source": [
    "cnn.add(tf.keras.layers.Dense(units=1,activation='sigmoid'))"
   ]
  },
  {
   "cell_type": "markdown",
   "metadata": {},
   "source": [
    "# Training CNN"
   ]
  },
  {
   "cell_type": "markdown",
   "metadata": {},
   "source": [
    "## Compiling the CNN"
   ]
  },
  {
   "cell_type": "code",
   "execution_count": 11,
   "metadata": {},
   "outputs": [],
   "source": [
    "cnn.compile(optimizer = 'adam',loss = 'binary_crossentropy',metrics = ['accuracy'])"
   ]
  },
  {
   "cell_type": "markdown",
   "metadata": {},
   "source": [
    "## Training the CNN on Training set and evaluating it on the Test set"
   ]
  },
  {
   "cell_type": "code",
   "execution_count": 12,
   "metadata": {},
   "outputs": [
    {
     "name": "stdout",
     "output_type": "stream",
     "text": [
      "WARNING:tensorflow:sample_weight modes were coerced from\n",
      "  ...\n",
      "    to  \n",
      "  ['...']\n",
      "WARNING:tensorflow:sample_weight modes were coerced from\n",
      "  ...\n",
      "    to  \n",
      "  ['...']\n",
      "Train for 250 steps, validate for 63 steps\n",
      "Epoch 1/25\n",
      "250/250 [==============================] - 55s 219ms/step - loss: 0.6686 - accuracy: 0.5820 - val_loss: 0.5933 - val_accuracy: 0.6865\n",
      "Epoch 2/25\n",
      "250/250 [==============================] - 54s 214ms/step - loss: 0.6102 - accuracy: 0.6603 - val_loss: 0.5881 - val_accuracy: 0.7000\n",
      "Epoch 3/25\n",
      "250/250 [==============================] - 53s 211ms/step - loss: 0.5741 - accuracy: 0.6974 - val_loss: 0.5330 - val_accuracy: 0.7260\n",
      "Epoch 4/25\n",
      "250/250 [==============================] - 53s 211ms/step - loss: 0.5399 - accuracy: 0.7226 - val_loss: 0.5602 - val_accuracy: 0.7295\n",
      "Epoch 5/25\n",
      "250/250 [==============================] - 54s 214ms/step - loss: 0.5092 - accuracy: 0.7456 - val_loss: 0.4948 - val_accuracy: 0.7650\n",
      "Epoch 6/25\n",
      "250/250 [==============================] - 53s 214ms/step - loss: 0.4968 - accuracy: 0.7552 - val_loss: 0.4998 - val_accuracy: 0.7675\n",
      "Epoch 7/25\n",
      "250/250 [==============================] - 53s 211ms/step - loss: 0.4751 - accuracy: 0.7745 - val_loss: 0.4733 - val_accuracy: 0.7780\n",
      "Epoch 8/25\n",
      "250/250 [==============================] - 54s 217ms/step - loss: 0.4552 - accuracy: 0.7862 - val_loss: 0.4859 - val_accuracy: 0.7630\n",
      "Epoch 9/25\n",
      "250/250 [==============================] - 53s 211ms/step - loss: 0.4427 - accuracy: 0.7900 - val_loss: 0.4822 - val_accuracy: 0.7690\n",
      "Epoch 10/25\n",
      "250/250 [==============================] - 53s 212ms/step - loss: 0.4320 - accuracy: 0.7959 - val_loss: 0.4640 - val_accuracy: 0.7775\n",
      "Epoch 11/25\n",
      "250/250 [==============================] - 53s 213ms/step - loss: 0.4177 - accuracy: 0.8044 - val_loss: 0.4584 - val_accuracy: 0.7875\n",
      "Epoch 12/25\n",
      "250/250 [==============================] - 53s 213ms/step - loss: 0.3959 - accuracy: 0.8169 - val_loss: 0.4823 - val_accuracy: 0.7755\n",
      "Epoch 13/25\n",
      "250/250 [==============================] - 53s 213ms/step - loss: 0.3906 - accuracy: 0.8195 - val_loss: 0.4800 - val_accuracy: 0.7840\n",
      "Epoch 14/25\n",
      "250/250 [==============================] - 54s 215ms/step - loss: 0.3694 - accuracy: 0.8320 - val_loss: 0.5273 - val_accuracy: 0.7545\n",
      "Epoch 15/25\n",
      "250/250 [==============================] - 54s 215ms/step - loss: 0.3507 - accuracy: 0.8414 - val_loss: 0.4841 - val_accuracy: 0.7855\n",
      "Epoch 16/25\n",
      "250/250 [==============================] - 53s 213ms/step - loss: 0.3453 - accuracy: 0.8451 - val_loss: 0.4614 - val_accuracy: 0.8025\n",
      "Epoch 17/25\n",
      "250/250 [==============================] - 53s 213ms/step - loss: 0.3275 - accuracy: 0.8569 - val_loss: 0.4760 - val_accuracy: 0.7880\n",
      "Epoch 18/25\n",
      "250/250 [==============================] - 53s 212ms/step - loss: 0.3067 - accuracy: 0.8635 - val_loss: 0.4617 - val_accuracy: 0.8035\n",
      "Epoch 19/25\n",
      "250/250 [==============================] - 55s 219ms/step - loss: 0.3030 - accuracy: 0.8705 - val_loss: 0.5431 - val_accuracy: 0.7830\n",
      "Epoch 20/25\n",
      "250/250 [==============================] - 53s 213ms/step - loss: 0.2913 - accuracy: 0.8692 - val_loss: 0.4949 - val_accuracy: 0.7960\n",
      "Epoch 21/25\n",
      "250/250 [==============================] - 53s 213ms/step - loss: 0.2792 - accuracy: 0.8789 - val_loss: 0.4845 - val_accuracy: 0.8045\n",
      "Epoch 22/25\n",
      "250/250 [==============================] - 53s 213ms/step - loss: 0.2548 - accuracy: 0.8905 - val_loss: 0.5162 - val_accuracy: 0.7845\n",
      "Epoch 23/25\n",
      "250/250 [==============================] - 53s 213ms/step - loss: 0.2532 - accuracy: 0.8934 - val_loss: 0.5142 - val_accuracy: 0.7945\n",
      "Epoch 24/25\n",
      "250/250 [==============================] - 54s 214ms/step - loss: 0.2382 - accuracy: 0.9010 - val_loss: 0.5484 - val_accuracy: 0.8025\n",
      "Epoch 25/25\n",
      "250/250 [==============================] - 53s 213ms/step - loss: 0.2227 - accuracy: 0.9095 - val_loss: 0.5312 - val_accuracy: 0.8030\n"
     ]
    },
    {
     "data": {
      "text/plain": [
       "<tensorflow.python.keras.callbacks.History at 0x24e572484c8>"
      ]
     },
     "execution_count": 12,
     "metadata": {},
     "output_type": "execute_result"
    }
   ],
   "source": [
    "cnn.fit(x = train_set,validation_data = test_set,epochs = 25)"
   ]
  },
  {
   "cell_type": "markdown",
   "metadata": {},
   "source": [
    "# Predicting Single Image"
   ]
  },
  {
   "cell_type": "code",
   "execution_count": 19,
   "metadata": {},
   "outputs": [
    {
     "name": "stdout",
     "output_type": "stream",
     "text": [
      "cat\n"
     ]
    }
   ],
   "source": [
    "from keras.preprocessing import image\n",
    "s_img = image.load_img('dataset/single_prediction/cat_or_dog_2.jpg',target_size = (64,64))\n",
    "s_img = image.img_to_array(s_img)\n",
    "s_img = np.expand_dims(s_img,axis=0)\n",
    "result = cnn.predict(s_img)\n",
    "train_set.class_indices\n",
    "if (result == 1):\n",
    "    print('dog')\n",
    "else:\n",
    "    print('cat')"
   ]
  }
 ],
 "metadata": {
  "kernelspec": {
   "display_name": "Python 3",
   "language": "python",
   "name": "python3"
  },
  "language_info": {
   "codemirror_mode": {
    "name": "ipython",
    "version": 3
   },
   "file_extension": ".py",
   "mimetype": "text/x-python",
   "name": "python",
   "nbconvert_exporter": "python",
   "pygments_lexer": "ipython3",
   "version": "3.7.7"
  }
 },
 "nbformat": 4,
 "nbformat_minor": 4
}
